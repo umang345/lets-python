{
 "cells": [
  {
   "cell_type": "code",
   "execution_count": 2,
   "metadata": {},
   "outputs": [
    {
     "name": "stdout",
     "output_type": "stream",
     "text": [
      "Hello How are you?\n",
      "I am good\n",
      "Rohit is my name\n",
      "Welcome to the course\n"
     ]
    }
   ],
   "source": [
    "### Read a while file\n",
    "\n",
    "with open('example.txt', 'r') as file:\n",
    "    content = file.read()\n",
    "    print(content)"
   ]
  },
  {
   "cell_type": "code",
   "execution_count": 5,
   "metadata": {},
   "outputs": [
    {
     "name": "stdout",
     "output_type": "stream",
     "text": [
      "Hello How are you?\n",
      "I am good\n",
      "Rohit is my name\n",
      "Welcome to the course\n"
     ]
    }
   ],
   "source": [
    "## Read a file line by line\n",
    "\n",
    "with open('example.txt', 'r') as file:\n",
    "    for line in file:\n",
    "        print(line.strip())"
   ]
  },
  {
   "cell_type": "code",
   "execution_count": 6,
   "metadata": {},
   "outputs": [],
   "source": [
    "## Writing a file (overwrite)\n",
    "\n",
    "with open('example.txt', 'w') as file:\n",
    "    file.write('Hello World!\\n')\n",
    "    file.write('This is a new line\\n')"
   ]
  },
  {
   "cell_type": "code",
   "execution_count": 10,
   "metadata": {},
   "outputs": [],
   "source": [
    "## Write a file (without overwrite)\n",
    "\n",
    "with open('example.txt','a') as file:\n",
    "    file.write('Append op in place\\n')"
   ]
  },
  {
   "cell_type": "code",
   "execution_count": 11,
   "metadata": {},
   "outputs": [],
   "source": [
    "lines = ['First Line\\n', 'Second Line\\n', 'Third Line\\n']\n",
    "\n",
    "with open('example.txt', 'a') as file:\n",
    "    file.writelines(lines)"
   ]
  },
  {
   "cell_type": "code",
   "execution_count": 12,
   "metadata": {},
   "outputs": [],
   "source": [
    "## Binary files \n",
    "\n",
    "data = b'\\x00\\x01\\x02\\x03\\x04'\n",
    "\n",
    "with open('example.bin', 'wb') as file:\n",
    "    file.write(data)"
   ]
  },
  {
   "cell_type": "code",
   "execution_count": 13,
   "metadata": {},
   "outputs": [
    {
     "name": "stdout",
     "output_type": "stream",
     "text": [
      "b'\\x00\\x01\\x02\\x03\\x04'\n"
     ]
    }
   ],
   "source": [
    "with open('example.bin', 'rb') as file:\n",
    "    content = file.read()\n",
    "    print(content)"
   ]
  },
  {
   "cell_type": "code",
   "execution_count": 15,
   "metadata": {},
   "outputs": [],
   "source": [
    "### Read the content from a source text file and write to a destination text file\n",
    "\n",
    "# Copying a text file \n",
    "\n",
    "with open('example.txt','r') as source_file:\n",
    "    content = source_file.read()\n",
    "\n",
    "with open('destination.txt','w') as destination_file:\n",
    "    destination_file.write(content)"
   ]
  },
  {
   "cell_type": "code",
   "execution_count": 16,
   "metadata": {},
   "outputs": [
    {
     "name": "stdout",
     "output_type": "stream",
     "text": [
      "Lines : 7, Words : 27, Characters: 140\n"
     ]
    }
   ],
   "source": [
    "## Read a text file and count the number of  lines, words and characters.\n",
    "## Counting lines, words, and characters.\n",
    "\n",
    "def count_text_file(file_path):\n",
    "    with open(file_path, 'r') as file:\n",
    "        lines = file.readlines()\n",
    "        line_count = len(lines)\n",
    "        word_count = sum(len(line.split()) for line in lines)\n",
    "        char_count = sum(len(line) for line in lines)\n",
    "    return line_count, word_count, char_count \n",
    "\n",
    "file_path = 'example.txt'\n",
    "lines, words, charaters = count_text_file(file_path)\n",
    "print(f\"Lines : {lines}, Words : {words}, Characters: {charaters}\")"
   ]
  },
  {
   "cell_type": "code",
   "execution_count": 19,
   "metadata": {},
   "outputs": [
    {
     "name": "stdout",
     "output_type": "stream",
     "text": [
      "Hello World\n",
      "This is a new line\n",
      "\n"
     ]
    }
   ],
   "source": [
    "## Writing and then reading a file\n",
    "\n",
    "with open('example.txt', 'w+') as file:\n",
    "    file.write('Hello World\\n')\n",
    "    file.write('This is a new line\\n')\n",
    "\n",
    "    ## Move the curson to the beginning\n",
    "    file.seek(0)\n",
    "\n",
    "    ## Read the content of the file\n",
    "    content = file.read()\n",
    "    print(content)"
   ]
  },
  {
   "cell_type": "code",
   "execution_count": null,
   "metadata": {},
   "outputs": [],
   "source": []
  }
 ],
 "metadata": {
  "kernelspec": {
   "display_name": "Python 3",
   "language": "python",
   "name": "python3"
  },
  "language_info": {
   "codemirror_mode": {
    "name": "ipython",
    "version": 3
   },
   "file_extension": ".py",
   "mimetype": "text/x-python",
   "name": "python",
   "nbconvert_exporter": "python",
   "pygments_lexer": "ipython3",
   "version": "3.9.13"
  }
 },
 "nbformat": 4,
 "nbformat_minor": 2
}
